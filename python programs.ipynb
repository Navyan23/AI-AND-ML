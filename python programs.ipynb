{
 "cells": [
  {
   "cell_type": "code",
   "execution_count": 1,
   "id": "3a474d49",
   "metadata": {},
   "outputs": [
    {
     "name": "stdout",
     "output_type": "stream",
     "text": [
      "enter a number: 25\n",
      "square root: 5.0\n"
     ]
    }
   ],
   "source": [
    "number = int(input(\"enter a number: \"))\n",
    "sqrt = number ** 0.5\n",
    "print(\"square root:\", sqrt)"
   ]
  },
  {
   "cell_type": "code",
   "execution_count": 2,
   "id": "922d00ed",
   "metadata": {},
   "outputs": [
    {
     "name": "stdout",
     "output_type": "stream",
     "text": [
      "enter a number: 5\n",
      "square root: 25\n"
     ]
    }
   ],
   "source": [
    "number = int(input(\"enter a number: \"))\n",
    "sqrt = number *number\n",
    "print(\"square root:\", sqrt)"
   ]
  },
  {
   "cell_type": "code",
   "execution_count": 11,
   "id": "43bc99e4",
   "metadata": {},
   "outputs": [
    {
     "name": "stdout",
     "output_type": "stream",
     "text": [
      "Enter the coefficient of x^2: 1\n",
      "Enter the coefficient of x: 5\n",
      "Enter the value of constant: 7\n",
      "\n",
      "The quadratic equation will be 1x^2 +5x +7 = 0\n",
      "\n",
      "The roots are complex numbers\n",
      "First root (α): (-2.5+0.8660254037844386j)\n",
      "Second root (β): (-2.5-0.8660254037844386j)\n"
     ]
    }
   ],
   "source": [
    "\n",
    "import math\n",
    "from typing import List, Union\n",
    "def QuadRoots(a: int, b: int, c: int) -> List[Union[float, complex, str]]:\n",
    "    if a == 0:\n",
    "        print(\"This is not a quadratic equation\")\n",
    "        return ['NA', 'NA']\n",
    "    roots = []\n",
    "    D = b*b - 4*a*c\n",
    "    if D > 0:\n",
    "        print(\"The roots are real and different\")\n",
    "        roots.append((-b + math.sqrt(D))/(2*a))\n",
    "        roots.append((-b - math.sqrt(D))/(2*a))\n",
    "    elif D == 0:\n",
    "        print(\"The roots are real and the same\")\n",
    "        roots.append((-b/(2*a)))\n",
    "        roots.append((-b/(2*a)))\n",
    "    else:\n",
    "        print(\"The roots are complex numbers\")\n",
    "        roots.append((-b + 1j*math.sqrt(abs(D)))/(2*a))\n",
    "        roots.append((-b - 1j*math.sqrt(abs(D)))/(2*a))\n",
    "    return roots\n",
    "a = int(input(\"Enter the coefficient of x^2: \"))\n",
    "b = int(input(\"Enter the coefficient of x: \"))\n",
    "c = int(input(\"Enter the value of constant: \"))\n",
    "print()\n",
    "print(\"The quadratic equation will be\",\n",
    "      f\"{a}x^2\" if a != 0 else '',\n",
    "      \"{0:+}x\".format(b) if b != 0 else '',\n",
    "      \"{0:+}\".format(c), \"= 0\")\n",
    "print()\n",
    "res = QuadRoots(a, b, c)\n",
    "print(\"First root (α):\", res[0])\n",
    "print(\"Second root (β):\", res[1])"
   ]
  },
  {
   "cell_type": "code",
   "execution_count": 6,
   "id": "31dfd706",
   "metadata": {},
   "outputs": [
    {
     "name": "stdout",
     "output_type": "stream",
     "text": [
      "Enter the Value of a: 1\n",
      "Enter the Value of b: -5\n",
      "Enter the Value of c: 6\n",
      "\n",
      "Root 1 = (2+0j)\n",
      "Root 2 = (3+0j)\n"
     ]
    }
   ],
   "source": [
    "import cmath\n",
    "print(\"Enter the Value of a: \", end=\"\")\n",
    "a = int(input())\n",
    "print(\"Enter the Value of b: \", end=\"\")\n",
    "b = int(input())\n",
    "print(\"Enter the Value of c: \", end=\"\")\n",
    "c = int(input())\n",
    "discriminant = (b**2) - (4*a*c)\n",
    "solutionOne = (-b-cmath.sqrt(discriminant))/(2*a)\n",
    "solutionTwo = (-b+cmath.sqrt(discriminant))/(2*a)\n",
    "print(\"\\nRoot 1 =\", solutionOne)\n",
    "print(\"Root 2 =\", solutionTwo)"
   ]
  },
  {
   "cell_type": "code",
   "execution_count": 8,
   "id": "e54cece0",
   "metadata": {},
   "outputs": [
    {
     "name": "stdout",
     "output_type": "stream",
     "text": [
      "Equation: ax^2 + bx + c \n",
      "Enter a: 1\n",
      "Enter b: -5\n",
      "Enter c: 6\n",
      "The first root:  3.0\n",
      "The second root:  2.0\n"
     ]
    }
   ],
   "source": [
    "print(\"Equation: ax^2 + bx + c \")\n",
    "a=int(input(\"Enter a: \"))\n",
    "b=int(input(\"Enter b: \"))\n",
    "c=int(input(\"Enter c: \"))\n",
    "d=b**2-4*a*c\n",
    "d1=d**0.5\n",
    "if(d<0):\n",
    "    print(\"The roots are imaginary. \")\n",
    "else:\n",
    "    r1=(-b+d1)/2*a\n",
    "    r2=(-b-d1)/2*a\n",
    "    print(\"The first root: \",round(r1,2))\n",
    "    print(\"The second root: \",round(r2,2))"
   ]
  },
  {
   "cell_type": "code",
   "execution_count": 12,
   "id": "cd4fa75c",
   "metadata": {},
   "outputs": [
    {
     "name": "stdout",
     "output_type": "stream",
     "text": [
      "Enter value of x: 2\n",
      "Enter value of y: 3\n",
      "The value of x after swapping: 3\n",
      "The value of y after swapping: 2\n"
     ]
    }
   ],
   "source": [
    "# Python program to swap two variables\n",
    "#x = 5\n",
    "#y = 10\n",
    "\n",
    "# To take inputs from the user\n",
    "x = input('Enter value of x: ')\n",
    "y = input('Enter value of y: ')\n",
    "\n",
    "# create a temporary variable and swap the values\n",
    "temp = x\n",
    "x = y\n",
    "y = temp\n",
    "\n",
    "print('The value of x after swapping: {}'.format(x))\n",
    "print('The value of y after swapping: {}'.format(y))"
   ]
  },
  {
   "cell_type": "code",
   "execution_count": 13,
   "id": "5e25f118",
   "metadata": {},
   "outputs": [
    {
     "name": "stdout",
     "output_type": "stream",
     "text": [
      "Enter a number: 4\n",
      "4 is not an Armstrong number\n"
     ]
    }
   ],
   "source": [
    "# Python program to check if the number is an Armstrong number or not\n",
    "num = int(input(\"Enter a number: \"))\n",
    "sum = 0\n",
    "temp = num\n",
    "while temp > 0:\n",
    "   digit = temp % 10\n",
    "   sum += digit ** 3\n",
    "   temp //= 10\n",
    "if num == sum:\n",
    "   print(num,\"is an Armstrong number\")\n",
    "else:\n",
    "   print(num,\"is not an Armstrong number\")\n"
   ]
  },
  {
   "cell_type": "code",
   "execution_count": 24,
   "id": "eeb0a868",
   "metadata": {},
   "outputs": [
    {
     "name": "stdout",
     "output_type": "stream",
     "text": [
      "The H.C.F. is 6\n"
     ]
    }
   ],
   "source": [
    "# Python program to find H.C.F of two numbers\n",
    "def compute_hcf(x, y):\n",
    "    if x > y:\n",
    "        smaller = y\n",
    "    else:\n",
    "        smaller = x\n",
    "    for i in range(1, smaller+1):\n",
    "        if((x % i == 0) and (y % i == 0)):\n",
    "            hcf = i \n",
    "    return hcf\n",
    "\n",
    "num1 = 54 \n",
    "num2 = 24\n",
    "\n",
    "print(\"The H.C.F. is\", compute_hcf(num1, num2))"
   ]
  },
  {
   "cell_type": "code",
   "execution_count": 23,
   "id": "2d8006cf",
   "metadata": {},
   "outputs": [
    {
     "name": "stdout",
     "output_type": "stream",
     "text": [
      "Enter first number: 1\n",
      "Enter second number: 1\n",
      "The H.C.F. of 1 , 1 is 1\n"
     ]
    }
   ],
   "source": [
    "# Python program to find H.C.F of two numbers using while loop\n",
    "\n",
    "num1 = int(input(\"Enter first number: \"))  \n",
    "num2 = int(input(\"Enter second number: \"))\n",
    "\n",
    "i = 1\n",
    "while(i <= num1 and i <= num2):\n",
    "    if(num1 % i == 0 and num2 % i == 0):\n",
    "        gcd = i\n",
    "    i = i + 1\n",
    "\n",
    "print(\"The H.C.F. of {} , {} is {}\" .format(num1, num2, gcd))\n"
   ]
  },
  {
   "cell_type": "code",
   "execution_count": 27,
   "id": "2f6da326",
   "metadata": {},
   "outputs": [
    {
     "name": "stdout",
     "output_type": "stream",
     "text": [
      "Enter first number: 3\n",
      "Enter second number: 4\n",
      "The L.C.M. is 12\n"
     ]
    }
   ],
   "source": [
    "def compute_lcm(x, y):\n",
    "   if x > y:\n",
    "       greater = x\n",
    "   else:\n",
    "       greater = y\n",
    "   while(True):\n",
    "       if((greater % x == 0) and (greater % y == 0)):\n",
    "           lcm = greater\n",
    "           break\n",
    "       greater += 1\n",
    "   return lcm\n",
    "num1 = int(input(\"Enter first number: \"))  \n",
    "num2 = int(input(\"Enter second number: \"))\n",
    "print(\"The L.C.M. is\", compute_lcm(num1, num2))"
   ]
  },
  {
   "cell_type": "code",
   "execution_count": 40,
   "id": "4e48e9d7",
   "metadata": {},
   "outputs": [
    {
     "name": "stdout",
     "output_type": "stream",
     "text": [
      "Result matrix is\n",
      "1  1  1  1  \n",
      "1  2  2  2  \n",
      "1  2  3  3  \n",
      "1  2  3  4  \n"
     ]
    }
   ],
   "source": [
    "# Python3 Program to find(1)\n",
    "# transpose of a matrix\n",
    "N = 4\n",
    "# This function stores\n",
    "# transpose of A[][] in B[][]\n",
    " \n",
    "def transpose(A,B):\n",
    "    \n",
    " for i in range(N):\n",
    "   for j in range(N):\n",
    "     B[j][i] = A[i][j]\n",
    "# driver code\n",
    "A = [ [1, 1, 1, 1],\n",
    "      [2, 2, 2, 2],\n",
    "      [3, 3, 3, 3],\n",
    "      [4, 4, 4, 4]] \n",
    "B = A[:][:] # To store result\n",
    "transpose(A, B)\n",
    "print(\"Result matrix is\")\n",
    "for j in range(N):\n",
    " for i in range(N):\n",
    "   print(B[j][i], \" \", end='')\n",
    " print()\n"
   ]
  },
  {
   "cell_type": "code",
   "execution_count": 33,
   "id": "163d3e29",
   "metadata": {},
   "outputs": [
    {
     "name": "stdout",
     "output_type": "stream",
     "text": [
      "Result matrix is\n",
      "1  2  3  \n",
      "3  2  3  \n",
      "1  2  3  \n",
      "1  2  3  \n"
     ]
    }
   ],
   "source": [
    "\n",
    "# Python3 Program to find(2)\n",
    "# transpose of a matrix\n",
    " \n",
    "M = 3\n",
    "N = 4\n",
    " \n",
    "# This function stores\n",
    "# transpose of A[][] in B[][]\n",
    " \n",
    "def transpose(A, B):\n",
    " \n",
    " for i in range(N):\n",
    "  for j in range(M):\n",
    "   B[i][j] = A[j][i]\n",
    " \n",
    "# driver code\n",
    "A = [ [1, 3, 1, 1],\n",
    " [2, 2, 2, 2],\n",
    " [3, 3, 3, 3]]\n",
    " \n",
    " \n",
    "# To store result\n",
    "B = [[0 for x in range(M)] for y in range(N)]\n",
    " \n",
    "transpose(A, B)\n",
    " \n",
    "print(\"Result matrix is\")\n",
    "for i in range(N):\n",
    " for j in range(M):\n",
    "  print(B[i][j], \" \", end='')\n",
    " print() "
   ]
  },
  {
   "cell_type": "code",
   "execution_count": null,
   "id": "bf9eb475",
   "metadata": {},
   "outputs": [],
   "source": [
    "# Program to transpose a matrix using a nested loop(3)\n",
    "\n",
    "X = [[6,7],\n",
    "    [4 ,5],\n",
    "    [3 ,8]]\n",
    "\n",
    "result = [[0,0,0],\n",
    "         [0,0,0]]\n",
    "\n",
    "# iterate through rows\n",
    "for i in range(len(X)):\n",
    "   # iterate through columns\n",
    "   for j in range(len(X[0])):\n",
    "       result[j][i] = X[i][j]\n",
    "\n",
    "for r in result:\n",
    "   print(r)\n"
   ]
  },
  {
   "cell_type": "code",
   "execution_count": 31,
   "id": "7773a378",
   "metadata": {},
   "outputs": [
    {
     "name": "stdout",
     "output_type": "stream",
     "text": [
      "[17, 15, 4]\n",
      "[10, 12, 9]\n",
      "[11, 13, 18]\n"
     ]
    }
   ],
   "source": [
    "# Program to add two matrices using nested loop\n",
    "\n",
    "X = [[12,7,3],\n",
    "    [4 ,5,6],\n",
    "    [7 ,8,9]]\n",
    "\n",
    "Y = [[5,8,1],\n",
    "    [6,7,3],\n",
    "    [4,5,9]]\n",
    "\n",
    "result = [[0,0,0],\n",
    "         [0,0,0],\n",
    "         [0,0,0]]\n",
    "\n",
    "# iterate through rows\n",
    "for i in range(len(X)):\n",
    "   # iterate through columns\n",
    "   for j in range(len(X[0])):\n",
    "       result[i][j] = X[i][j] + Y[i][j]\n",
    "\n",
    "for r in result:\n",
    "   print(r)"
   ]
  },
  {
   "cell_type": "code",
   "execution_count": 43,
   "id": "dc204640",
   "metadata": {},
   "outputs": [
    {
     "name": "stdout",
     "output_type": "stream",
     "text": [
      "{'A': 90, 'B': 2, 'C': 3}\n",
      "[2, 3, 90]\n"
     ]
    }
   ],
   "source": [
    "dt = {\"A\":90, \"B\":2, \"C\":3}\n",
    "\n",
    "sorted_dt_value = sorted(dt.values())\n",
    "print(dt)\n",
    "print(sorted_dt_value)"
   ]
  },
  {
   "cell_type": "code",
   "execution_count": 48,
   "id": "9725fc72",
   "metadata": {},
   "outputs": [
    {
     "name": "stdout",
     "output_type": "stream",
     "text": [
      "Original dictionary:  {'A': 13, 'B': 7, 'C': 0, 'D': 10}\n",
      "Sorted dictionary:  {'C': 0, 'B': 7, 'D': 10, 'A': 13}\n"
     ]
    }
   ],
   "source": [
    "\n",
    "dic= {\"A\": 13, \"B\": 7, \"C\": 0, \"D\": 10 }\n",
    "\n",
    "sorted_dic= {}\n",
    "sorted_values = sorted(dic, key=dic.get) \n",
    "\n",
    "print(\"Original dictionary: \",dic)\n",
    "\n",
    "for i in sorted_values:\n",
    "    sorted_dic[i] = dic[i]\n",
    "print(\"Sorted dictionary: \", sorted_dic)"
   ]
  },
  {
   "cell_type": "code",
   "execution_count": 55,
   "id": "3134dc5f",
   "metadata": {},
   "outputs": [
    {
     "name": "stdout",
     "output_type": "stream",
     "text": [
      "<class 'datetime.datetime'>\n",
      "2022-12-05 11:31:00\n"
     ]
    }
   ],
   "source": [
    "from datetime import datetime\n",
    "\n",
    "my_date_string = \"Dec 5 2022  11:31AM\"\n",
    "\n",
    "datetime_object = datetime.strptime(my_date_string, '%b %d %Y %I:%M%p')\n",
    "\n",
    "print(type(datetime_object))\n",
    "print(datetime_object)"
   ]
  },
  {
   "cell_type": "code",
   "execution_count": 58,
   "id": "4dcc8971",
   "metadata": {},
   "outputs": [
    {
     "name": "stdout",
     "output_type": "stream",
     "text": [
      "Output of Readlines after appending\n",
      "That fligt for  Delhi \n",
      "This is for Paris \n",
      "we are in LondonToday \n",
      "\n",
      "\n",
      " we are coming  today\n",
      "i am here \n",
      "\n",
      "\n"
     ]
    }
   ],
   "source": [
    "#Apppend a file\n",
    "file1 = open(\"myfile.txt\", \"w\")\n",
    "L = [\"That fligt for  Delhi \\n\", \"This is for Paris \\n\", \"we are in London\"]\n",
    "file1.writelines(L)\n",
    "file1.close()\n",
    " \n",
    "# Append-adds at last\n",
    "file1 = open(\"myfile.txt\", \"a\")  # append mode\n",
    "file1.write(\"Today \\n\")\n",
    "file1.close()\n",
    " \n",
    "file1 = open(\"myfile.txt\", \"r\")\n",
    "print(\"Output of Readlines after appending\")\n",
    "print(file1.read())\n",
    "print()\n",
    "file1.close()\n",
    "\n",
    "\n",
    "\n",
    "# Write-Overwrites\n",
    "file1 = open(\"myfile.txt\", \"w\")  # write mode\n",
    "file1.write(\"i am here \\n\")\n",
    "file1.close()\n",
    " \n",
    "file1 = open(\"myfile.txt\", \"r\")\n",
    "print(\" we are coming  today\")\n",
    "print(file1.read())\n",
    "print()\n",
    "file1.close()\n"
   ]
  },
  {
   "cell_type": "code",
   "execution_count": 59,
   "id": "6b0624ec",
   "metadata": {},
   "outputs": [
    {
     "name": "stdout",
     "output_type": "stream",
     "text": [
      "enter a number: 10125\n",
      "Reversed Number: 52101\n"
     ]
    }
   ],
   "source": [
    "#num = 10125\n",
    "num = int(input(\"enter a number: \"))\n",
    "reversed_num = 0\n",
    "\n",
    "while num != 0:\n",
    "    digit = num % 10\n",
    "    reversed_num = reversed_num * 10 + digit\n",
    "    num //= 10\n",
    "\n",
    "print(\"Reversed Number: \" + str(reversed_num))"
   ]
  },
  {
   "cell_type": "code",
   "execution_count": 61,
   "id": "a2db0696",
   "metadata": {},
   "outputs": [
    {
     "name": "stdout",
     "output_type": "stream",
     "text": [
      "Answer = 24\n",
      "Answer = 288\n"
     ]
    }
   ],
   "source": [
    "base = 12\n",
    "power = 2\n",
    "result = 2\n",
    "while power !=0:\n",
    "    result*=base\n",
    "    power-=1\n",
    "    print(\"Answer = \"+ str(result))"
   ]
  },
  {
   "cell_type": "code",
   "execution_count": 60,
   "id": "ad87c0dc",
   "metadata": {},
   "outputs": [
    {
     "name": "stdout",
     "output_type": "stream",
     "text": [
      "stop1\n"
     ]
    }
   ],
   "source": [
    "import time\n",
    "\n",
    "def countdown(time_sec):\n",
    "    while time_sec:\n",
    "        mins, secs = divmod(time_sec, 60)\n",
    "        timeformat = '{:02d}:{:02d}'.format(mins, secs)\n",
    "        print(timeformat, end='\\r')\n",
    "        time.sleep(1)\n",
    "        time_sec -= 1\n",
    "\n",
    "    print(\"stop\")\n",
    "\n",
    "countdown(10)"
   ]
  },
  {
   "cell_type": "code",
   "execution_count": 54,
   "id": "ccd4a9d9",
   "metadata": {},
   "outputs": [
    {
     "name": "stdout",
     "output_type": "stream",
     "text": [
      "Easy or Difficult ✅\n"
     ]
    }
   ],
   "source": [
    "print(b'Easy or Difficult \\xE2\\x9C\\x85'.decode(\"utf-8\"))"
   ]
  },
  {
   "cell_type": "code",
   "execution_count": null,
   "id": "58ff06a6",
   "metadata": {},
   "outputs": [],
   "source": []
  }
 ],
 "metadata": {
  "kernelspec": {
   "display_name": "Python 3 (ipykernel)",
   "language": "python",
   "name": "python3"
  },
  "language_info": {
   "codemirror_mode": {
    "name": "ipython",
    "version": 3
   },
   "file_extension": ".py",
   "mimetype": "text/x-python",
   "name": "python",
   "nbconvert_exporter": "python",
   "pygments_lexer": "ipython3",
   "version": "3.9.7"
  }
 },
 "nbformat": 4,
 "nbformat_minor": 5
}
